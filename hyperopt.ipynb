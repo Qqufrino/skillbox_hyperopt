{
 "cells": [
  {
   "cell_type": "code",
   "execution_count": 1,
   "id": "e10bfcc2",
   "metadata": {},
   "outputs": [],
   "source": [
    "import boto3\n",
    "import pandas as pd\n",
    "import mlflow\n",
    "import mlflow.sklearn\n",
    "import os\n",
    "import mlflow.sklearn\n",
    "\n",
    "from sklearn.feature_extraction.text import CountVectorizer, TfidfVectorizer\n",
    "from sklearn.ensemble import RandomForestClassifier\n",
    "from sklearn.linear_model import LogisticRegression\n",
    "from io import StringIO\n",
    "from sklearn.model_selection import train_test_split\n",
    "from sklearn.metrics import accuracy_score\n",
    "from hyperopt import fmin, tpe, hp\n",
    "import mlflow"
   ]
  },
  {
   "cell_type": "code",
   "execution_count": 2,
   "id": "bdf81210",
   "metadata": {},
   "outputs": [
    {
     "name": "stdout",
     "output_type": "stream",
     "text": [
      "Инициализация клиента...\n"
     ]
    }
   ],
   "source": [
    "# Инициализация клиента\n",
    "print('Инициализация клиента...')\n",
    "s3 = boto3.client('s3',\n",
    "                  endpoint_url='http://localhost:9000',\n",
    "                  aws_access_key_id='minio',\n",
    "                  aws_secret_access_key='minio123')"
   ]
  },
  {
   "cell_type": "code",
   "execution_count": 3,
   "id": "736a738c",
   "metadata": {},
   "outputs": [
    {
     "name": "stdout",
     "output_type": "stream",
     "text": [
      "Считывание данных...\n"
     ]
    }
   ],
   "source": [
    "# Считывание данных\n",
    "print('Считывание данных...')\n",
    "obj = s3.get_object(Bucket='datasets', Key='kinopoisk_train.csv')\n",
    "data = obj['Body'].read().decode('utf-8')\n",
    "df = pd.read_csv(StringIO(data))"
   ]
  },
  {
   "cell_type": "code",
   "execution_count": 4,
   "id": "e41e7550",
   "metadata": {},
   "outputs": [],
   "source": [
    "# Установка переменных окружения в Windows\n",
    "os.environ['MLFLOW_TRACKING_URI'] = 'http://localhost:5000'\n",
    "os.environ['MLFLOW_S3_ENDPOINT_URL'] = 'http://localhost:9000'\n",
    "os.environ['AWS_ACCESS_KEY_ID'] = 'minio'\n",
    "os.environ['AWS_SECRET_ACCESS_KEY'] = 'minio123'"
   ]
  },
  {
   "cell_type": "code",
   "execution_count": 5,
   "id": "f2438e0e",
   "metadata": {},
   "outputs": [],
   "source": [
    "X_train, X_test, y_train, y_test = train_test_split(df['review'], df['sentiment'], test_size=0.2)\n",
    "\n",
    "# Определение пространства поиска\n",
    "space = {\n",
    "    'preprocessing': hp.choice('preprocessing', [None, 'remove_stopwords']),\n",
    "    'vectorizer': hp.choice('vectorizer', ['CountVectorizer', 'TfidfVectorizer']),\n",
    "    'model': hp.choice('model', ['LogisticRegression', 'RandomForest']),\n",
    "    'C': hp.uniform('C', 0.1, 10.0)\n",
    "}"
   ]
  },
  {
   "cell_type": "code",
   "execution_count": 6,
   "id": "3f3fca42",
   "metadata": {},
   "outputs": [
    {
     "name": "stdout",
     "output_type": "stream",
     "text": [
      "Точность модели:                                                                                                       \n",
      "0.7099468488990129                                                                                                     \n",
      "  0%|                                                                           | 0/25 [01:11<?, ?trial/s, best loss=?]"
     ]
    },
    {
     "name": "stderr",
     "output_type": "stream",
     "text": [
      "C:\\Users\\Huawei\\anaconda3\\lib\\site-packages\\_distutils_hack\\__init__.py:33: UserWarning: Setuptools is replacing distutils.\n",
      "  warnings.warn(\"Setuptools is replacing distutils.\")\n",
      "\n",
      "Registered model 'OptimizedModel' already exists. Creating a new version of this model...\n",
      "2024/01/21 14:12:35 INFO mlflow.tracking._model_registry.client: Waiting up to 300 seconds for model version to finish creation. Model name: OptimizedModel, version 44\n",
      "\n"
     ]
    },
    {
     "name": "stdout",
     "output_type": "stream",
     "text": [
      "  4%|█▉                                              | 1/25 [01:20<32:03, 80.17s/trial, best loss: -0.7099468488990129]"
     ]
    },
    {
     "name": "stderr",
     "output_type": "stream",
     "text": [
      "Created version '44' of model 'OptimizedModel'.\n"
     ]
    },
    {
     "name": "stdout",
     "output_type": "stream",
     "text": [
      "Точность модели:                                                                                                       \n",
      "0.7757529739306505                                                                                                     \n",
      "  4%|█▉                                              | 1/25 [01:45<32:03, 80.17s/trial, best loss: -0.7099468488990129]"
     ]
    },
    {
     "name": "stderr",
     "output_type": "stream",
     "text": [
      "C:\\Users\\Huawei\\anaconda3\\lib\\site-packages\\sklearn\\linear_model\\_logistic.py:814: ConvergenceWarning: lbfgs failed to converge (status=1):\n",
      "STOP: TOTAL NO. of ITERATIONS REACHED LIMIT.\n",
      "\n",
      "Increase the number of iterations (max_iter) or scale the data as shown in:\n",
      "    https://scikit-learn.org/stable/modules/preprocessing.html\n",
      "Please also refer to the documentation for alternative solver options:\n",
      "    https://scikit-learn.org/stable/modules/linear_model.html#logistic-regression\n",
      "  n_iter_i = _check_optimize_result(\n",
      "\n",
      "Registered model 'OptimizedModel' already exists. Creating a new version of this model...\n",
      "2024/01/21 14:13:04 INFO mlflow.tracking._model_registry.client: Waiting up to 300 seconds for model version to finish creation. Model name: OptimizedModel, version 45\n",
      "\n"
     ]
    },
    {
     "name": "stdout",
     "output_type": "stream",
     "text": [
      "  8%|███▊                                            | 2/25 [01:49<19:15, 50.24s/trial, best loss: -0.7757529739306505]"
     ]
    },
    {
     "name": "stderr",
     "output_type": "stream",
     "text": [
      "Created version '45' of model 'OptimizedModel'.\n"
     ]
    },
    {
     "name": "stdout",
     "output_type": "stream",
     "text": [
      "Точность модели:                                                                                                       \n",
      "0.7099468488990129                                                                                                     \n",
      "  8%|███▊                                            | 2/25 [03:01<19:15, 50.24s/trial, best loss: -0.7757529739306505]"
     ]
    },
    {
     "name": "stderr",
     "output_type": "stream",
     "text": [
      "Registered model 'OptimizedModel' already exists. Creating a new version of this model...\n",
      "2024/01/21 14:14:23 INFO mlflow.tracking._model_registry.client: Waiting up to 300 seconds for model version to finish creation. Model name: OptimizedModel, version 46\n",
      "\n"
     ]
    },
    {
     "name": "stdout",
     "output_type": "stream",
     "text": [
      " 12%|█████▊                                          | 3/25 [03:08<23:13, 63.35s/trial, best loss: -0.7757529739306505]"
     ]
    },
    {
     "name": "stderr",
     "output_type": "stream",
     "text": [
      "Created version '46' of model 'OptimizedModel'.\n"
     ]
    },
    {
     "name": "stdout",
     "output_type": "stream",
     "text": [
      "Точность модели:                                                                                                       \n",
      "0.7557580359402682                                                                                                     \n",
      " 12%|█████▊                                          | 3/25 [03:33<23:13, 63.35s/trial, best loss: -0.7757529739306505]"
     ]
    },
    {
     "name": "stderr",
     "output_type": "stream",
     "text": [
      "C:\\Users\\Huawei\\anaconda3\\lib\\site-packages\\sklearn\\linear_model\\_logistic.py:814: ConvergenceWarning: lbfgs failed to converge (status=1):\n",
      "STOP: TOTAL NO. of ITERATIONS REACHED LIMIT.\n",
      "\n",
      "Increase the number of iterations (max_iter) or scale the data as shown in:\n",
      "    https://scikit-learn.org/stable/modules/preprocessing.html\n",
      "Please also refer to the documentation for alternative solver options:\n",
      "    https://scikit-learn.org/stable/modules/linear_model.html#logistic-regression\n",
      "  n_iter_i = _check_optimize_result(\n",
      "\n",
      "Registered model 'OptimizedModel' already exists. Creating a new version of this model...\n",
      "2024/01/21 14:14:54 INFO mlflow.tracking._model_registry.client: Waiting up to 300 seconds for model version to finish creation. Model name: OptimizedModel, version 47\n",
      "\n"
     ]
    },
    {
     "name": "stdout",
     "output_type": "stream",
     "text": [
      " 16%|███████▋                                        | 4/25 [03:39<17:39, 50.44s/trial, best loss: -0.7757529739306505]"
     ]
    },
    {
     "name": "stderr",
     "output_type": "stream",
     "text": [
      "Created version '47' of model 'OptimizedModel'.\n"
     ]
    },
    {
     "name": "stdout",
     "output_type": "stream",
     "text": [
      "Точность модели:                                                                                                       \n",
      "0.7552518349784865                                                                                                     \n",
      " 16%|███████▋                                        | 4/25 [04:03<17:39, 50.44s/trial, best loss: -0.7757529739306505]"
     ]
    },
    {
     "name": "stderr",
     "output_type": "stream",
     "text": [
      "C:\\Users\\Huawei\\anaconda3\\lib\\site-packages\\sklearn\\linear_model\\_logistic.py:814: ConvergenceWarning: lbfgs failed to converge (status=1):\n",
      "STOP: TOTAL NO. of ITERATIONS REACHED LIMIT.\n",
      "\n",
      "Increase the number of iterations (max_iter) or scale the data as shown in:\n",
      "    https://scikit-learn.org/stable/modules/preprocessing.html\n",
      "Please also refer to the documentation for alternative solver options:\n",
      "    https://scikit-learn.org/stable/modules/linear_model.html#logistic-regression\n",
      "  n_iter_i = _check_optimize_result(\n",
      "\n",
      "Registered model 'OptimizedModel' already exists. Creating a new version of this model...\n",
      "2024/01/21 14:15:23 INFO mlflow.tracking._model_registry.client: Waiting up to 300 seconds for model version to finish creation. Model name: OptimizedModel, version 48\n",
      "\n"
     ]
    },
    {
     "name": "stdout",
     "output_type": "stream",
     "text": [
      " 20%|█████████▌                                      | 5/25 [04:07<14:13, 42.69s/trial, best loss: -0.7757529739306505]"
     ]
    },
    {
     "name": "stderr",
     "output_type": "stream",
     "text": [
      "Created version '48' of model 'OptimizedModel'.\n"
     ]
    },
    {
     "name": "stdout",
     "output_type": "stream",
     "text": [
      "Точность модели:                                                                                                       \n",
      "0.7099468488990129                                                                                                     \n",
      " 20%|█████████▌                                      | 5/25 [05:15<14:13, 42.69s/trial, best loss: -0.7757529739306505]"
     ]
    },
    {
     "name": "stderr",
     "output_type": "stream",
     "text": [
      "Registered model 'OptimizedModel' already exists. Creating a new version of this model...\n",
      "2024/01/21 14:16:36 INFO mlflow.tracking._model_registry.client: Waiting up to 300 seconds for model version to finish creation. Model name: OptimizedModel, version 49\n",
      "\n"
     ]
    },
    {
     "name": "stdout",
     "output_type": "stream",
     "text": [
      " 24%|███████████▌                                    | 6/25 [05:21<16:48, 53.07s/trial, best loss: -0.7757529739306505]"
     ]
    },
    {
     "name": "stderr",
     "output_type": "stream",
     "text": [
      "Created version '49' of model 'OptimizedModel'.\n"
     ]
    },
    {
     "name": "stdout",
     "output_type": "stream",
     "text": [
      "Точность модели:                                                                                                       \n",
      "0.7096937484181219                                                                                                     \n",
      " 24%|███████████▌                                    | 6/25 [06:35<16:48, 53.07s/trial, best loss: -0.7757529739306505]"
     ]
    },
    {
     "name": "stderr",
     "output_type": "stream",
     "text": [
      "Registered model 'OptimizedModel' already exists. Creating a new version of this model...\n",
      "2024/01/21 14:17:56 INFO mlflow.tracking._model_registry.client: Waiting up to 300 seconds for model version to finish creation. Model name: OptimizedModel, version 50\n",
      "\n"
     ]
    },
    {
     "name": "stdout",
     "output_type": "stream",
     "text": [
      " 28%|█████████████▍                                  | 7/25 [06:41<18:33, 61.86s/trial, best loss: -0.7757529739306505]"
     ]
    },
    {
     "name": "stderr",
     "output_type": "stream",
     "text": [
      "Created version '50' of model 'OptimizedModel'.\n"
     ]
    },
    {
     "name": "stdout",
     "output_type": "stream",
     "text": [
      "Точность модели:                                                                                                       \n",
      "0.7570235383447228                                                                                                     \n",
      " 28%|█████████████▍                                  | 7/25 [07:05<18:33, 61.86s/trial, best loss: -0.7757529739306505]"
     ]
    },
    {
     "name": "stderr",
     "output_type": "stream",
     "text": [
      "C:\\Users\\Huawei\\anaconda3\\lib\\site-packages\\sklearn\\linear_model\\_logistic.py:814: ConvergenceWarning: lbfgs failed to converge (status=1):\n",
      "STOP: TOTAL NO. of ITERATIONS REACHED LIMIT.\n",
      "\n",
      "Increase the number of iterations (max_iter) or scale the data as shown in:\n",
      "    https://scikit-learn.org/stable/modules/preprocessing.html\n",
      "Please also refer to the documentation for alternative solver options:\n",
      "    https://scikit-learn.org/stable/modules/linear_model.html#logistic-regression\n",
      "  n_iter_i = _check_optimize_result(\n",
      "\n",
      "Registered model 'OptimizedModel' already exists. Creating a new version of this model...\n",
      "2024/01/21 14:18:25 INFO mlflow.tracking._model_registry.client: Waiting up to 300 seconds for model version to finish creation. Model name: OptimizedModel, version 51\n",
      "\n"
     ]
    },
    {
     "name": "stdout",
     "output_type": "stream",
     "text": [
      " 32%|███████████████▎                                | 8/25 [07:10<14:34, 51.45s/trial, best loss: -0.7757529739306505]"
     ]
    },
    {
     "name": "stderr",
     "output_type": "stream",
     "text": [
      "Created version '51' of model 'OptimizedModel'.\n"
     ]
    },
    {
     "name": "stdout",
     "output_type": "stream",
     "text": [
      "Точность модели:                                                                                                       \n",
      "0.7410782080485953                                                                                                     \n",
      " 32%|███████████████▎                                | 8/25 [07:32<14:34, 51.45s/trial, best loss: -0.7757529739306505]"
     ]
    },
    {
     "name": "stderr",
     "output_type": "stream",
     "text": [
      "Registered model 'OptimizedModel' already exists. Creating a new version of this model...\n",
      "2024/01/21 14:18:52 INFO mlflow.tracking._model_registry.client: Waiting up to 300 seconds for model version to finish creation. Model name: OptimizedModel, version 52\n",
      "\n"
     ]
    },
    {
     "name": "stdout",
     "output_type": "stream",
     "text": [
      " 36%|█████████████████▎                              | 9/25 [07:36<11:38, 43.67s/trial, best loss: -0.7757529739306505]"
     ]
    },
    {
     "name": "stderr",
     "output_type": "stream",
     "text": [
      "Created version '52' of model 'OptimizedModel'.\n"
     ]
    },
    {
     "name": "stdout",
     "output_type": "stream",
     "text": [
      "Точность модели:                                                                                                       \n",
      "0.7223487724626677                                                                                                     \n",
      " 36%|█████████████████▎                              | 9/25 [07:56<11:38, 43.67s/trial, best loss: -0.7757529739306505]"
     ]
    },
    {
     "name": "stderr",
     "output_type": "stream",
     "text": [
      "Registered model 'OptimizedModel' already exists. Creating a new version of this model...\n",
      "2024/01/21 14:19:15 INFO mlflow.tracking._model_registry.client: Waiting up to 300 seconds for model version to finish creation. Model name: OptimizedModel, version 53\n",
      "\n"
     ]
    },
    {
     "name": "stdout",
     "output_type": "stream",
     "text": [
      " 40%|██████████████████▊                            | 10/25 [08:00<09:22, 37.50s/trial, best loss: -0.7757529739306505]"
     ]
    },
    {
     "name": "stderr",
     "output_type": "stream",
     "text": [
      "Created version '53' of model 'OptimizedModel'.\n"
     ]
    },
    {
     "name": "stdout",
     "output_type": "stream",
     "text": [
      "Точность модели:                                                                                                       \n",
      "0.7096937484181219                                                                                                     \n",
      " 40%|██████████████████▊                            | 10/25 [09:13<09:22, 37.50s/trial, best loss: -0.7757529739306505]"
     ]
    },
    {
     "name": "stderr",
     "output_type": "stream",
     "text": [
      "Registered model 'OptimizedModel' already exists. Creating a new version of this model...\n",
      "2024/01/21 14:20:36 INFO mlflow.tracking._model_registry.client: Waiting up to 300 seconds for model version to finish creation. Model name: OptimizedModel, version 54\n",
      "\n"
     ]
    },
    {
     "name": "stdout",
     "output_type": "stream",
     "text": [
      " 44%|████████████████████▋                          | 11/25 [09:21<11:50, 50.73s/trial, best loss: -0.7757529739306505]"
     ]
    },
    {
     "name": "stderr",
     "output_type": "stream",
     "text": [
      "Created version '54' of model 'OptimizedModel'.\n"
     ]
    },
    {
     "name": "stdout",
     "output_type": "stream",
     "text": [
      "Точность модели:                                                                                                       \n",
      "0.7544925335358137                                                                                                     \n",
      " 44%|████████████████████▋                          | 11/25 [09:46<11:50, 50.73s/trial, best loss: -0.7757529739306505]"
     ]
    },
    {
     "name": "stderr",
     "output_type": "stream",
     "text": [
      "C:\\Users\\Huawei\\anaconda3\\lib\\site-packages\\sklearn\\linear_model\\_logistic.py:814: ConvergenceWarning: lbfgs failed to converge (status=1):\n",
      "STOP: TOTAL NO. of ITERATIONS REACHED LIMIT.\n",
      "\n",
      "Increase the number of iterations (max_iter) or scale the data as shown in:\n",
      "    https://scikit-learn.org/stable/modules/preprocessing.html\n",
      "Please also refer to the documentation for alternative solver options:\n",
      "    https://scikit-learn.org/stable/modules/linear_model.html#logistic-regression\n",
      "  n_iter_i = _check_optimize_result(\n",
      "\n",
      "Registered model 'OptimizedModel' already exists. Creating a new version of this model...\n",
      "2024/01/21 14:21:06 INFO mlflow.tracking._model_registry.client: Waiting up to 300 seconds for model version to finish creation. Model name: OptimizedModel, version 55\n",
      "\n"
     ]
    },
    {
     "name": "stdout",
     "output_type": "stream",
     "text": [
      " 48%|██████████████████████▌                        | 12/25 [09:51<09:37, 44.45s/trial, best loss: -0.7757529739306505]"
     ]
    },
    {
     "name": "stderr",
     "output_type": "stream",
     "text": [
      "Created version '55' of model 'OptimizedModel'.\n"
     ]
    },
    {
     "name": "stdout",
     "output_type": "stream",
     "text": [
      "Точность модели:                                                                                                       \n",
      "0.7099468488990129                                                                                                     \n",
      " 48%|██████████████████████▌                        | 12/25 [10:56<09:37, 44.45s/trial, best loss: -0.7757529739306505]"
     ]
    },
    {
     "name": "stderr",
     "output_type": "stream",
     "text": [
      "Registered model 'OptimizedModel' already exists. Creating a new version of this model...\n",
      "2024/01/21 14:22:17 INFO mlflow.tracking._model_registry.client: Waiting up to 300 seconds for model version to finish creation. Model name: OptimizedModel, version 56\n",
      "\n"
     ]
    },
    {
     "name": "stdout",
     "output_type": "stream",
     "text": [
      " 52%|████████████████████████▍                      | 13/25 [11:01<10:27, 52.31s/trial, best loss: -0.7757529739306505]"
     ]
    },
    {
     "name": "stderr",
     "output_type": "stream",
     "text": [
      "Created version '56' of model 'OptimizedModel'.\n"
     ]
    },
    {
     "name": "stdout",
     "output_type": "stream",
     "text": [
      "Точность модели:                                                                                                       \n",
      "0.7099468488990129                                                                                                     \n",
      " 52%|████████████████████████▍                      | 13/25 [12:07<10:27, 52.31s/trial, best loss: -0.7757529739306505]"
     ]
    },
    {
     "name": "stderr",
     "output_type": "stream",
     "text": [
      "Registered model 'OptimizedModel' already exists. Creating a new version of this model...\n",
      "2024/01/21 14:23:28 INFO mlflow.tracking._model_registry.client: Waiting up to 300 seconds for model version to finish creation. Model name: OptimizedModel, version 57\n",
      "\n"
     ]
    },
    {
     "name": "stdout",
     "output_type": "stream",
     "text": [
      " 56%|██████████████████████████▎                    | 14/25 [12:13<10:39, 58.13s/trial, best loss: -0.7757529739306505]"
     ]
    },
    {
     "name": "stderr",
     "output_type": "stream",
     "text": [
      "Created version '57' of model 'OptimizedModel'.\n"
     ]
    },
    {
     "name": "stdout",
     "output_type": "stream",
     "text": [
      "Точность модели:                                                                                                       \n",
      "0.7096937484181219                                                                                                     \n",
      " 56%|██████████████████████████▎                    | 14/25 [13:23<10:39, 58.13s/trial, best loss: -0.7757529739306505]"
     ]
    },
    {
     "name": "stderr",
     "output_type": "stream",
     "text": [
      "Registered model 'OptimizedModel' already exists. Creating a new version of this model...\n",
      "2024/01/21 14:24:44 INFO mlflow.tracking._model_registry.client: Waiting up to 300 seconds for model version to finish creation. Model name: OptimizedModel, version 58\n",
      "\n"
     ]
    },
    {
     "name": "stdout",
     "output_type": "stream",
     "text": [
      " 60%|████████████████████████████▏                  | 15/25 [13:28<10:34, 63.40s/trial, best loss: -0.7757529739306505]"
     ]
    },
    {
     "name": "stderr",
     "output_type": "stream",
     "text": [
      "Created version '58' of model 'OptimizedModel'.\n"
     ]
    },
    {
     "name": "stdout",
     "output_type": "stream",
     "text": [
      "Точность модели:                                                                                                       \n",
      "0.7567704378638319                                                                                                     \n",
      " 60%|████████████████████████████▏                  | 15/25 [13:53<10:34, 63.40s/trial, best loss: -0.7757529739306505]"
     ]
    },
    {
     "name": "stderr",
     "output_type": "stream",
     "text": [
      "C:\\Users\\Huawei\\anaconda3\\lib\\site-packages\\sklearn\\linear_model\\_logistic.py:814: ConvergenceWarning: lbfgs failed to converge (status=1):\n",
      "STOP: TOTAL NO. of ITERATIONS REACHED LIMIT.\n",
      "\n",
      "Increase the number of iterations (max_iter) or scale the data as shown in:\n",
      "    https://scikit-learn.org/stable/modules/preprocessing.html\n",
      "Please also refer to the documentation for alternative solver options:\n",
      "    https://scikit-learn.org/stable/modules/linear_model.html#logistic-regression\n",
      "  n_iter_i = _check_optimize_result(\n",
      "\n",
      "Registered model 'OptimizedModel' already exists. Creating a new version of this model...\n",
      "2024/01/21 14:25:12 INFO mlflow.tracking._model_registry.client: Waiting up to 300 seconds for model version to finish creation. Model name: OptimizedModel, version 59\n",
      "\n"
     ]
    },
    {
     "name": "stdout",
     "output_type": "stream",
     "text": [
      " 64%|██████████████████████████████                 | 16/25 [13:57<07:55, 52.79s/trial, best loss: -0.7757529739306505]"
     ]
    },
    {
     "name": "stderr",
     "output_type": "stream",
     "text": [
      "Created version '59' of model 'OptimizedModel'.\n"
     ]
    },
    {
     "name": "stdout",
     "output_type": "stream",
     "text": [
      "Точность модели:                                                                                                       \n",
      "0.7760060744115413                                                                                                     \n",
      " 64%|██████████████████████████████                 | 16/25 [14:19<07:55, 52.79s/trial, best loss: -0.7757529739306505]"
     ]
    },
    {
     "name": "stderr",
     "output_type": "stream",
     "text": [
      "C:\\Users\\Huawei\\anaconda3\\lib\\site-packages\\sklearn\\linear_model\\_logistic.py:814: ConvergenceWarning: lbfgs failed to converge (status=1):\n",
      "STOP: TOTAL NO. of ITERATIONS REACHED LIMIT.\n",
      "\n",
      "Increase the number of iterations (max_iter) or scale the data as shown in:\n",
      "    https://scikit-learn.org/stable/modules/preprocessing.html\n",
      "Please also refer to the documentation for alternative solver options:\n",
      "    https://scikit-learn.org/stable/modules/linear_model.html#logistic-regression\n",
      "  n_iter_i = _check_optimize_result(\n",
      "\n",
      "Registered model 'OptimizedModel' already exists. Creating a new version of this model...\n",
      "2024/01/21 14:25:39 INFO mlflow.tracking._model_registry.client: Waiting up to 300 seconds for model version to finish creation. Model name: OptimizedModel, version 60\n",
      "\n"
     ]
    },
    {
     "name": "stdout",
     "output_type": "stream",
     "text": [
      " 68%|███████████████████████████████▉               | 17/25 [14:23<05:59, 44.89s/trial, best loss: -0.7760060744115413]"
     ]
    },
    {
     "name": "stderr",
     "output_type": "stream",
     "text": [
      "Created version '60' of model 'OptimizedModel'.\n"
     ]
    },
    {
     "name": "stdout",
     "output_type": "stream",
     "text": [
      "Точность модели:                                                                                                       \n",
      "0.7096937484181219                                                                                                     \n",
      " 68%|███████████████████████████████▉               | 17/25 [15:35<05:59, 44.89s/trial, best loss: -0.7760060744115413]"
     ]
    },
    {
     "name": "stderr",
     "output_type": "stream",
     "text": [
      "Registered model 'OptimizedModel' already exists. Creating a new version of this model...\n",
      "2024/01/21 14:26:56 INFO mlflow.tracking._model_registry.client: Waiting up to 300 seconds for model version to finish creation. Model name: OptimizedModel, version 61\n",
      "\n"
     ]
    },
    {
     "name": "stdout",
     "output_type": "stream",
     "text": [
      " 72%|█████████████████████████████████▊             | 18/25 [15:41<06:22, 54.66s/trial, best loss: -0.7760060744115413]"
     ]
    },
    {
     "name": "stderr",
     "output_type": "stream",
     "text": [
      "Created version '61' of model 'OptimizedModel'.\n"
     ]
    },
    {
     "name": "stdout",
     "output_type": "stream",
     "text": [
      "Точность модели:                                                                                                       \n",
      "0.7777777777777778                                                                                                     \n",
      " 72%|█████████████████████████████████▊             | 18/25 [16:05<06:22, 54.66s/trial, best loss: -0.7760060744115413]"
     ]
    },
    {
     "name": "stderr",
     "output_type": "stream",
     "text": [
      "C:\\Users\\Huawei\\anaconda3\\lib\\site-packages\\sklearn\\linear_model\\_logistic.py:814: ConvergenceWarning: lbfgs failed to converge (status=1):\n",
      "STOP: TOTAL NO. of ITERATIONS REACHED LIMIT.\n",
      "\n",
      "Increase the number of iterations (max_iter) or scale the data as shown in:\n",
      "    https://scikit-learn.org/stable/modules/preprocessing.html\n",
      "Please also refer to the documentation for alternative solver options:\n",
      "    https://scikit-learn.org/stable/modules/linear_model.html#logistic-regression\n",
      "  n_iter_i = _check_optimize_result(\n",
      "\n",
      "Registered model 'OptimizedModel' already exists. Creating a new version of this model...\n",
      "2024/01/21 14:27:24 INFO mlflow.tracking._model_registry.client: Waiting up to 300 seconds for model version to finish creation. Model name: OptimizedModel, version 62\n",
      "\n"
     ]
    },
    {
     "name": "stdout",
     "output_type": "stream",
     "text": [
      " 76%|███████████████████████████████████▋           | 19/25 [16:08<04:39, 46.62s/trial, best loss: -0.7777777777777778]"
     ]
    },
    {
     "name": "stderr",
     "output_type": "stream",
     "text": [
      "Created version '62' of model 'OptimizedModel'.\n"
     ]
    },
    {
     "name": "stdout",
     "output_type": "stream",
     "text": [
      "Точность модели:                                                                                                       \n",
      "0.7096937484181219                                                                                                     \n",
      " 76%|███████████████████████████████████▋           | 19/25 [17:24<04:39, 46.62s/trial, best loss: -0.7777777777777778]"
     ]
    },
    {
     "name": "stderr",
     "output_type": "stream",
     "text": [
      "Registered model 'OptimizedModel' already exists. Creating a new version of this model...\n",
      "2024/01/21 14:28:46 INFO mlflow.tracking._model_registry.client: Waiting up to 300 seconds for model version to finish creation. Model name: OptimizedModel, version 63\n",
      "\n"
     ]
    },
    {
     "name": "stdout",
     "output_type": "stream",
     "text": [
      " 80%|█████████████████████████████████████▌         | 20/25 [17:31<04:46, 57.35s/trial, best loss: -0.7777777777777778]"
     ]
    },
    {
     "name": "stderr",
     "output_type": "stream",
     "text": [
      "Created version '63' of model 'OptimizedModel'.\n"
     ]
    },
    {
     "name": "stdout",
     "output_type": "stream",
     "text": [
      "Точность модели:                                                                                                       \n",
      "0.7765122753733232                                                                                                     \n",
      " 80%|█████████████████████████████████████▌         | 20/25 [17:53<04:46, 57.35s/trial, best loss: -0.7777777777777778]"
     ]
    },
    {
     "name": "stderr",
     "output_type": "stream",
     "text": [
      "C:\\Users\\Huawei\\anaconda3\\lib\\site-packages\\sklearn\\linear_model\\_logistic.py:814: ConvergenceWarning: lbfgs failed to converge (status=1):\n",
      "STOP: TOTAL NO. of ITERATIONS REACHED LIMIT.\n",
      "\n",
      "Increase the number of iterations (max_iter) or scale the data as shown in:\n",
      "    https://scikit-learn.org/stable/modules/preprocessing.html\n",
      "Please also refer to the documentation for alternative solver options:\n",
      "    https://scikit-learn.org/stable/modules/linear_model.html#logistic-regression\n",
      "  n_iter_i = _check_optimize_result(\n",
      "\n",
      "Registered model 'OptimizedModel' already exists. Creating a new version of this model...\n",
      "2024/01/21 14:29:13 INFO mlflow.tracking._model_registry.client: Waiting up to 300 seconds for model version to finish creation. Model name: OptimizedModel, version 64\n",
      "\n"
     ]
    },
    {
     "name": "stdout",
     "output_type": "stream",
     "text": [
      " 84%|███████████████████████████████████████▍       | 21/25 [17:58<03:12, 48.22s/trial, best loss: -0.7777777777777778]"
     ]
    },
    {
     "name": "stderr",
     "output_type": "stream",
     "text": [
      "Created version '64' of model 'OptimizedModel'.\n"
     ]
    },
    {
     "name": "stdout",
     "output_type": "stream",
     "text": [
      "Точность модели:                                                                                                       \n",
      "0.7762591748924323                                                                                                     \n",
      " 84%|███████████████████████████████████████▍       | 21/25 [18:20<03:12, 48.22s/trial, best loss: -0.7777777777777778]"
     ]
    },
    {
     "name": "stderr",
     "output_type": "stream",
     "text": [
      "C:\\Users\\Huawei\\anaconda3\\lib\\site-packages\\sklearn\\linear_model\\_logistic.py:814: ConvergenceWarning: lbfgs failed to converge (status=1):\n",
      "STOP: TOTAL NO. of ITERATIONS REACHED LIMIT.\n",
      "\n",
      "Increase the number of iterations (max_iter) or scale the data as shown in:\n",
      "    https://scikit-learn.org/stable/modules/preprocessing.html\n",
      "Please also refer to the documentation for alternative solver options:\n",
      "    https://scikit-learn.org/stable/modules/linear_model.html#logistic-regression\n",
      "  n_iter_i = _check_optimize_result(\n",
      "\n",
      "Registered model 'OptimizedModel' already exists. Creating a new version of this model...\n",
      "2024/01/21 14:29:40 INFO mlflow.tracking._model_registry.client: Waiting up to 300 seconds for model version to finish creation. Model name: OptimizedModel, version 65\n",
      "\n"
     ]
    },
    {
     "name": "stdout",
     "output_type": "stream",
     "text": [
      " 88%|█████████████████████████████████████████▎     | 22/25 [18:24<02:05, 41.75s/trial, best loss: -0.7777777777777778]"
     ]
    },
    {
     "name": "stderr",
     "output_type": "stream",
     "text": [
      "Created version '65' of model 'OptimizedModel'.\n"
     ]
    },
    {
     "name": "stdout",
     "output_type": "stream",
     "text": [
      "Точность модели:                                                                                                       \n",
      "0.777018476335105                                                                                                      \n",
      " 88%|█████████████████████████████████████████▎     | 22/25 [18:48<02:05, 41.75s/trial, best loss: -0.7777777777777778]"
     ]
    },
    {
     "name": "stderr",
     "output_type": "stream",
     "text": [
      "C:\\Users\\Huawei\\anaconda3\\lib\\site-packages\\sklearn\\linear_model\\_logistic.py:814: ConvergenceWarning: lbfgs failed to converge (status=1):\n",
      "STOP: TOTAL NO. of ITERATIONS REACHED LIMIT.\n",
      "\n",
      "Increase the number of iterations (max_iter) or scale the data as shown in:\n",
      "    https://scikit-learn.org/stable/modules/preprocessing.html\n",
      "Please also refer to the documentation for alternative solver options:\n",
      "    https://scikit-learn.org/stable/modules/linear_model.html#logistic-regression\n",
      "  n_iter_i = _check_optimize_result(\n",
      "\n",
      "Registered model 'OptimizedModel' already exists. Creating a new version of this model...\n",
      "2024/01/21 14:30:08 INFO mlflow.tracking._model_registry.client: Waiting up to 300 seconds for model version to finish creation. Model name: OptimizedModel, version 66\n",
      "\n"
     ]
    },
    {
     "name": "stdout",
     "output_type": "stream",
     "text": [
      " 92%|███████████████████████████████████████████▏   | 23/25 [18:52<01:15, 37.56s/trial, best loss: -0.7777777777777778]"
     ]
    },
    {
     "name": "stderr",
     "output_type": "stream",
     "text": [
      "Created version '66' of model 'OptimizedModel'.\n"
     ]
    },
    {
     "name": "stdout",
     "output_type": "stream",
     "text": [
      "Точность модели:                                                                                                       \n",
      "0.777018476335105                                                                                                      \n",
      " 92%|███████████████████████████████████████████▏   | 23/25 [19:15<01:15, 37.56s/trial, best loss: -0.7777777777777778]"
     ]
    },
    {
     "name": "stderr",
     "output_type": "stream",
     "text": [
      "C:\\Users\\Huawei\\anaconda3\\lib\\site-packages\\sklearn\\linear_model\\_logistic.py:814: ConvergenceWarning: lbfgs failed to converge (status=1):\n",
      "STOP: TOTAL NO. of ITERATIONS REACHED LIMIT.\n",
      "\n",
      "Increase the number of iterations (max_iter) or scale the data as shown in:\n",
      "    https://scikit-learn.org/stable/modules/preprocessing.html\n",
      "Please also refer to the documentation for alternative solver options:\n",
      "    https://scikit-learn.org/stable/modules/linear_model.html#logistic-regression\n",
      "  n_iter_i = _check_optimize_result(\n",
      "\n",
      "Registered model 'OptimizedModel' already exists. Creating a new version of this model...\n",
      "2024/01/21 14:30:35 INFO mlflow.tracking._model_registry.client: Waiting up to 300 seconds for model version to finish creation. Model name: OptimizedModel, version 67\n",
      "\n"
     ]
    },
    {
     "name": "stdout",
     "output_type": "stream",
     "text": [
      " 96%|█████████████████████████████████████████████  | 24/25 [19:20<00:34, 34.53s/trial, best loss: -0.7777777777777778]"
     ]
    },
    {
     "name": "stderr",
     "output_type": "stream",
     "text": [
      "Created version '67' of model 'OptimizedModel'.\n"
     ]
    },
    {
     "name": "stdout",
     "output_type": "stream",
     "text": [
      "Точность модели:                                                                                                       \n",
      "0.7772715768159959                                                                                                     \n",
      " 96%|█████████████████████████████████████████████  | 24/25 [19:43<00:34, 34.53s/trial, best loss: -0.7777777777777778]"
     ]
    },
    {
     "name": "stderr",
     "output_type": "stream",
     "text": [
      "C:\\Users\\Huawei\\anaconda3\\lib\\site-packages\\sklearn\\linear_model\\_logistic.py:814: ConvergenceWarning: lbfgs failed to converge (status=1):\n",
      "STOP: TOTAL NO. of ITERATIONS REACHED LIMIT.\n",
      "\n",
      "Increase the number of iterations (max_iter) or scale the data as shown in:\n",
      "    https://scikit-learn.org/stable/modules/preprocessing.html\n",
      "Please also refer to the documentation for alternative solver options:\n",
      "    https://scikit-learn.org/stable/modules/linear_model.html#logistic-regression\n",
      "  n_iter_i = _check_optimize_result(\n",
      "\n",
      "Registered model 'OptimizedModel' already exists. Creating a new version of this model...\n",
      "2024/01/21 14:31:03 INFO mlflow.tracking._model_registry.client: Waiting up to 300 seconds for model version to finish creation. Model name: OptimizedModel, version 68\n",
      "\n"
     ]
    },
    {
     "name": "stdout",
     "output_type": "stream",
     "text": [
      "100%|███████████████████████████████████████████████| 25/25 [19:48<00:00, 47.53s/trial, best loss: -0.7777777777777778]\n"
     ]
    },
    {
     "name": "stderr",
     "output_type": "stream",
     "text": [
      "Created version '68' of model 'OptimizedModel'.\n"
     ]
    }
   ],
   "source": [
    "def objective(params):\n",
    "    # Извлечение параметров из пространства поиска\n",
    "    preprocessing = params['preprocessing']\n",
    "    vectorizer_type = params['vectorizer']\n",
    "    model_type = params['model']\n",
    "    C = params['C']\n",
    "\n",
    "   # Применение выбранных методов предобработки данных, векторизации и модели классификации\n",
    "    if preprocessing == 'remove_stopwords':\n",
    "        pass\n",
    "\n",
    "    if vectorizer_type == 'CountVectorizer':\n",
    "        vectorizer = CountVectorizer()\n",
    "    elif vectorizer_type == 'TfidfVectorizer':\n",
    "        vectorizer = TfidfVectorizer()\n",
    "\n",
    "    X_train_vec = vectorizer.fit_transform(X_train)\n",
    "    X_test_vec = vectorizer.transform(X_test)\n",
    "\n",
    "    if model_type == 'LogisticRegression':\n",
    "        clf = LogisticRegression(C=C)\n",
    "    elif model_type == 'RandomForest':\n",
    "        clf = RandomForestClassifier(n_estimators=100, random_state=42)\n",
    "\n",
    "    # Обучение модели и вычисление метрик\n",
    "    clf.fit(X_train_vec, y_train)\n",
    "    y_pred = clf.predict(X_test_vec)\n",
    "    accuracy = accuracy_score(y_test, y_pred)\n",
    "    print('Точность модели:', accuracy)\n",
    "\n",
    "    # Логирование в MLflow\n",
    "    with mlflow.start_run() as run:\n",
    "        mlflow.log_params(params)\n",
    "        mlflow.log_metric(\"accuracy\", accuracy)\n",
    "        mlflow.sklearn.log_model(clf, \"model\", registered_model_name=\"OptimizedModel\")\n",
    "\n",
    "    # Возвращение целевой метрики, которую Hyperopt будет оптимизировать\n",
    "    return -accuracy\n",
    "\n",
    "# Оптимизация гиперпараметров с использованием Hyperopt\n",
    "best_params = fmin(fn=objective, space=space, algo=tpe.suggest, max_evals=25)"
   ]
  }
 ],
 "metadata": {
  "kernelspec": {
   "display_name": "Python 3 (ipykernel)",
   "language": "python",
   "name": "python3"
  },
  "language_info": {
   "codemirror_mode": {
    "name": "ipython",
    "version": 3
   },
   "file_extension": ".py",
   "mimetype": "text/x-python",
   "name": "python",
   "nbconvert_exporter": "python",
   "pygments_lexer": "ipython3",
   "version": "3.9.13"
  }
 },
 "nbformat": 4,
 "nbformat_minor": 5
}
